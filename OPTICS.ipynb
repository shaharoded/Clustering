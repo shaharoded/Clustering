{
  "nbformat": 4,
  "nbformat_minor": 0,
  "metadata": {
    "colab": {
      "provenance": []
    },
    "kernelspec": {
      "name": "python3",
      "display_name": "Python 3"
    },
    "language_info": {
      "name": "python"
    }
  },
  "cells": [
    {
      "cell_type": "code",
      "execution_count": 1,
      "metadata": {
        "id": "CSzvXskRkZjS"
      },
      "outputs": [],
      "source": [
        "import numpy as np\n",
        "from sklearn.metrics import pairwise_distances\n",
        "import matplotlib.pyplot as plt\n",
        "\n",
        "class OPTICS:\n",
        "    def __init__(self, min_samples=5, max_eps=float('inf')):\n",
        "        self.min_samples = min_samples\n",
        "        self.max_eps = max_eps\n",
        "        self.reachability_ = None\n",
        "        self.ordering_ = None\n",
        "        self.core_distances_ = None\n",
        "        self.labels_ = None\n",
        "\n",
        "    def fit(self, X):\n",
        "        n_points = X.shape[0]\n",
        "        self.reachability_ = np.full(n_points, float('inf'))\n",
        "        self.ordering_ = np.zeros(n_points, dtype=int)\n",
        "        self.core_distances_ = np.full(n_points, float('inf'))\n",
        "        self.labels_ = np.full(n_points, -1)\n",
        "\n",
        "        processed = np.zeros(n_points, dtype=bool)\n",
        "        index_order = 0\n",
        "\n",
        "        for point_idx in range(n_points):\n",
        "            if processed[point_idx]:\n",
        "                continue\n",
        "\n",
        "            neighbors = self._get_neighbors(X, point_idx)\n",
        "            processed[point_idx] = True\n",
        "            self.ordering_[index_order] = point_idx\n",
        "            index_order += 1\n",
        "\n",
        "            if len(neighbors) >= self.min_samples:\n",
        "                core_dist = self._core_distance(X, point_idx, neighbors)\n",
        "                self.core_distances_[point_idx] = core_dist\n",
        "                self._update(X, neighbors, point_idx, processed, core_dist, index_order)\n",
        "            else:\n",
        "                self.core_distances_[point_idx] = float('inf')\n",
        "\n",
        "        self._extract_clusters()\n",
        "\n",
        "    def _get_neighbors(self, X, point_idx):\n",
        "        distances = pairwise_distances(X[point_idx].reshape(1, -1), X)[0]\n",
        "        neighbors = np.where(distances <= self.max_eps)[0]\n",
        "        return neighbors\n",
        "\n",
        "    def _core_distance(self, X, point_idx, neighbors):\n",
        "        distances = pairwise_distances(X[point_idx].reshape(1, -1), X[neighbors])[0]\n",
        "        sorted_distances = np.sort(distances)\n",
        "        core_distance = sorted_distances[self.min_samples - 1] if len(neighbors) >= self.min_samples else float('inf')\n",
        "        return core_distance\n",
        "\n",
        "    def _update(self, X, neighbors, point_idx, processed, core_dist, index_order):\n",
        "        seeds = {}\n",
        "        for neighbor_idx in neighbors:\n",
        "            if processed[neighbor_idx]:\n",
        "                continue\n",
        "\n",
        "            new_reachability = max(core_dist, np.linalg.norm(X[point_idx] - X[neighbor_idx]))\n",
        "            if self.reachability_[neighbor_idx] == float('inf'):\n",
        "                self.reachability_[neighbor_idx] = new_reachability\n",
        "                seeds[neighbor_idx] = new_reachability\n",
        "            elif new_reachability < self.reachability_[neighbor_idx]:\n",
        "                self.reachability_[neighbor_idx] = new_reachability\n",
        "                seeds[neighbor_idx] = new_reachability\n",
        "\n",
        "        while seeds:\n",
        "            next_point_idx = min(seeds, key=seeds.get)\n",
        "            del seeds[next_point_idx]\n",
        "            processed[next_point_idx] = True\n",
        "            self.ordering_[index_order] = next_point_idx\n",
        "            index_order += 1\n",
        "\n",
        "            neighbors = self._get_neighbors(X, next_point_idx)\n",
        "            if len(neighbors) >= self.min_samples:\n",
        "                core_dist = self._core_distance(X, next_point_idx, neighbors)\n",
        "                self.core_distances_[next_point_idx] = core_dist\n",
        "                self._update(X, neighbors, next_point_idx, processed, core_dist, index_order)\n",
        "\n",
        "    def _extract_clusters(self):\n",
        "        cluster_id = 0\n",
        "        for i in range(len(self.ordering_)):\n",
        "            if self.core_distances_[self.ordering_[i]] != float('inf'):\n",
        "                self.labels_[self.ordering_[i]] = cluster_id\n",
        "                if i < len(self.ordering_) - 1 and self.reachability_[self.ordering_[i+1]] > self.core_distances_[self.ordering_[i]]:\n",
        "                    cluster_id += 1"
      ]
    },
    {
      "cell_type": "code",
      "source": [
        "from sklearn.datasets import make_blobs\n",
        "import matplotlib.pyplot as plt\n",
        "\n",
        "# Generate random data points\n",
        "X, _ = make_blobs(n_samples=20, centers=3, cluster_std=0.2, random_state=0)\n",
        "\n",
        "# Assume we have an optics instance that has already been fit\n",
        "optics = OPTICS(min_samples=5, max_eps=0.5)\n",
        "optics.fit(X)\n",
        "\n",
        "# Define a list of colors\n",
        "colors = ['r', 'g', 'b', 'c', 'm', 'y']\n",
        "\n",
        "# Plotting the results\n",
        "plt.figure(figsize=(6, 4))\n",
        "unique_labels = np.unique(optics.labels_)\n",
        "\n",
        "for cluster_id in unique_labels:\n",
        "    if cluster_id == -1:\n",
        "        # Noise points (usually colored black)\n",
        "        plt.scatter(X[optics.labels_ == cluster_id, 0], X[optics.labels_ == cluster_id, 1], c='k', marker='x', label='Noise')\n",
        "    else:\n",
        "        # Assign colors to clusters\n",
        "        color = colors[cluster_id % len(colors)]\n",
        "        plt.scatter(X[optics.labels_ == cluster_id, 0], X[optics.labels_ == cluster_id, 1], c=color, marker='o', label=f'Cluster {cluster_id}')\n",
        "\n",
        "plt.title('OPTICS Clustering')\n",
        "plt.xlabel('Feature 1')\n",
        "plt.ylabel('Feature 2')\n",
        "plt.legend()\n",
        "plt.show()"
      ],
      "metadata": {
        "colab": {
          "base_uri": "https://localhost:8080/",
          "height": 410
        },
        "id": "oDLwLgYOkhMh",
        "outputId": "c7a92a3c-1a75-4bde-fded-dc8f700e3b66"
      },
      "execution_count": 13,
      "outputs": [
        {
          "output_type": "display_data",
          "data": {
            "text/plain": [
              "<Figure size 600x400 with 1 Axes>"
            ],
            "image/png": "[encoded data removed]"
          },
          "metadata": {}
        }
      ]
    }
  ]
}